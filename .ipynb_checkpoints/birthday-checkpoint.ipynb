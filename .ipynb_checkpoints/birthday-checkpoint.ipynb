{
 "cells": [
  {
   "cell_type": "markdown",
   "metadata": {},
   "source": [
    "# The Birthday Problem "
   ]
  },
  {
   "cell_type": "markdown",
   "metadata": {},
   "source": [
    "Surprised when somebody shares a birthday with you ? A common application of probability shows that it isn't that uncommon. "
   ]
  },
  {
   "cell_type": "code",
   "execution_count": 7,
   "metadata": {},
   "outputs": [
    {
     "data": {
      "application/vnd.jupyter.widget-view+json": {
       "model_id": "90ffcf54b7ea495dac3b4a78cd117c31",
       "version_major": 2,
       "version_minor": 0
      },
      "text/plain": [
       "FloatSlider(value=0.5, description='Pick a probability for having a birthday collision', max=1.0, step=0.05)"
      ]
     },
     "metadata": {},
     "output_type": "display_data"
    }
   ],
   "source": [
    "%matplotlib notebook \n",
    "\n",
    "import matplotlib.pyplot as plt\n",
    "import seaborn as sns\n",
    "import numpy as np\n",
    "import scipy as sp\n",
    "import ipywidgets as widgets\n",
    "from IPython.display import clear_output\n",
    "\n",
    "\n",
    "\n",
    "\n",
    "x = np.arange(1,366)\n",
    "P_Birthday = np.zeros(365)\n",
    "\n",
    "#Creating a helper function for number of permutations \n",
    "def nPr(n,k) : \n",
    "    nPr = 1\n",
    "    for i in range(n,n - k,-1):\n",
    "        nPr = nPr*i       \n",
    "    return nPr\n",
    "\n",
    "\n",
    "# calculating the probabilities\n",
    "for i in range(1, 366) :     \n",
    "    P_Birthday[i-1]= 1- nPr(365,i)  / pow(365,i)\n",
    "    \n",
    "\n",
    "    \n",
    "#Visualizing the results \n",
    "sns.set() \n",
    "\n",
    "def plot_birthday (alpha) :\n",
    "    \n",
    "    plt.clf()\n",
    "    alpha = alpha['new']\n",
    "    \n",
    "    min_people = np.amin(np.where(P_Birthday >= alpha)) + 1\n",
    "    \n",
    "    P_lower = np.ma.masked_where(P_Birthday >= alpha , P_Birthday)\n",
    "    P_higher = np.ma.masked_where(P_Birthday < alpha , P_Birthday)\n",
    "    plt.title(\"You just need {0} people \\n to have a  {1:.0f} % probability  \" \n",
    "          \"that at least two of them will share a birthday. \\n\".format(min_people , alpha*100))\n",
    "    plt.plot( x, P_lower, c = 'blue' )\n",
    "    plt.plot( x, P_higher, c = 'red' )\n",
    "    ax = plt.gca()\n",
    "    ax.spines['right'].set_visible(False)\n",
    "    ax.spines['top'].set_visible(False)\n",
    "    ax.set_xlabel(\"No: of people\")\n",
    "    ax.set_ylabel(\"Probability of at least two \\n people sharing a birthday\")\n",
    "\n",
    "    \n",
    "prob_select = widgets.FloatSlider(\n",
    "    value=0.5,\n",
    "    min=0,\n",
    "    max=1.0,\n",
    "    step=0.05,\n",
    "    description='Pick a probability for having a birthday collision',\n",
    "    disabled=False,\n",
    "    continuous_update=True,\n",
    "    orientation='horizontal',\n",
    "    readout=True,\n",
    "    readout_format='.2f',\n",
    ")\n",
    "\n",
    "\n",
    " \n",
    "display(prob_select)\n",
    "prob_select.observe(plot_birthday, names = 'value')\n",
    "\n",
    "\n"
   ]
  },
  {
   "cell_type": "code",
   "execution_count": null,
   "metadata": {},
   "outputs": [],
   "source": []
  },
  {
   "cell_type": "code",
   "execution_count": null,
   "metadata": {},
   "outputs": [],
   "source": []
  }
 ],
 "metadata": {
  "kernelspec": {
   "display_name": "Python 3",
   "language": "python",
   "name": "python3"
  },
  "language_info": {
   "codemirror_mode": {
    "name": "ipython",
    "version": 3
   },
   "file_extension": ".py",
   "mimetype": "text/x-python",
   "name": "python",
   "nbconvert_exporter": "python",
   "pygments_lexer": "ipython3",
   "version": "3.7.4"
  }
 },
 "nbformat": 4,
 "nbformat_minor": 2
}
